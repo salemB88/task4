{
 "cells": [
  {
   "cell_type": "code",
   "execution_count": 1,
   "id": "594d7931",
   "metadata": {},
   "outputs": [
    {
     "name": "stdout",
     "output_type": "stream",
     "text": [
      "Collecting ibm_watson\n",
      "  Using cached ibm_watson-5.2.2-py3-none-any.whl\n",
      "Collecting ibm-cloud-sdk-core==3.*,>=3.3.6\n",
      "  Using cached ibm_cloud_sdk_core-3.11.0-py3-none-any.whl\n",
      "Collecting requests<3.0,>=2.0\n",
      "  Using cached requests-2.26.0-py2.py3-none-any.whl (62 kB)\n",
      "Requirement already satisfied: python-dateutil>=2.5.3 in d:\\pycharm\\anaconda3\\envs\\task4\\lib\\site-packages (from ibm_watson) (2.8.2)\n",
      "Collecting websocket-client==1.1.0\n",
      "  Using cached websocket_client-1.1.0-py2.py3-none-any.whl (68 kB)\n",
      "Collecting PyJWT<3.0.0,>=2.0.1\n",
      "  Using cached PyJWT-2.1.0-py3-none-any.whl (16 kB)\n",
      "Requirement already satisfied: six>=1.5 in d:\\pycharm\\anaconda3\\envs\\task4\\lib\\site-packages (from python-dateutil>=2.5.3->ibm_watson) (1.16.0)\n",
      "Collecting idna<4,>=2.5\n",
      "  Using cached idna-3.2-py3-none-any.whl (59 kB)\n",
      "Requirement already satisfied: certifi>=2017.4.17 in d:\\pycharm\\anaconda3\\envs\\task4\\lib\\site-packages (from requests<3.0,>=2.0->ibm_watson) (2021.5.30)\n",
      "Collecting urllib3<1.27,>=1.21.1\n",
      "  Using cached urllib3-1.26.6-py2.py3-none-any.whl (138 kB)\n",
      "Collecting charset-normalizer~=2.0.0\n",
      "  Using cached charset_normalizer-2.0.4-py3-none-any.whl (36 kB)\n",
      "Installing collected packages: urllib3, idna, charset-normalizer, requests, PyJWT, websocket-client, ibm-cloud-sdk-core, ibm-watson\n",
      "  Attempting uninstall: websocket-client\n",
      "    Found existing installation: websocket-client 0.58.0\n",
      "    Uninstalling websocket-client-0.58.0:\n",
      "      Successfully uninstalled websocket-client-0.58.0\n",
      "Successfully installed PyJWT-2.1.0 charset-normalizer-2.0.4 ibm-cloud-sdk-core-3.11.0 ibm-watson-5.2.2 idna-3.2 requests-2.26.0 urllib3-1.26.6 websocket-client-1.1.0\n"
     ]
    }
   ],
   "source": [
    "!pip install ibm_watson"
   ]
  },
  {
   "cell_type": "code",
   "execution_count": 2,
   "id": "12b629a7",
   "metadata": {},
   "outputs": [],
   "source": [
    "from ibm_watson import TextToSpeechV1\n",
    "from ibm_cloud_sdk_core.authenticators import IAMAuthenticator"
   ]
  },
  {
   "cell_type": "code",
   "execution_count": 3,
   "id": "65b046eb",
   "metadata": {},
   "outputs": [],
   "source": [
    "apikey = 'M7q5UqPLIOWHHcC_QFyYK7i_Ml2aWKIQlye13u2x4Nw6'\n",
    "url = 'https://api.us-south.text-to-speech.watson.cloud.ibm.com/instances/2e3e667e-61cf-4504-b068-c62434e833db'"
   ]
  },
  {
   "cell_type": "code",
   "execution_count": 4,
   "id": "3597615a",
   "metadata": {},
   "outputs": [],
   "source": [
    "# Setup Service\n",
    "authenticator = IAMAuthenticator(apikey)\n",
    "tts = TextToSpeechV1(authenticator=authenticator)\n",
    "tts.set_service_url(url)"
   ]
  },
  {
   "cell_type": "code",
   "execution_count": 5,
   "id": "8273164b",
   "metadata": {},
   "outputs": [],
   "source": [
    "with open('./speech.mp3', 'wb') as audio_file:\n",
    "    res = tts.synthesize('Hello World!', accept='audio/mp3', voice='en-US_AllisonV3Voice').get_result()\n",
    "    audio_file.write(res.content)"
   ]
  },
  {
   "cell_type": "code",
   "execution_count": 11,
   "id": "cdd1b17e",
   "metadata": {},
   "outputs": [],
   "source": [
    "with open('text.txt', 'r') as f:\n",
    "    text = f.readlines()"
   ]
  },
  {
   "cell_type": "code",
   "execution_count": 14,
   "id": "a236ac36",
   "metadata": {},
   "outputs": [],
   "source": [
    "text = [line.replace('\\n','') for line in text]"
   ]
  },
  {
   "cell_type": "code",
   "execution_count": 15,
   "id": "85d9f5ef",
   "metadata": {},
   "outputs": [],
   "source": [
    "text = ''.join(str(line) for line in text)"
   ]
  },
  {
   "cell_type": "code",
   "execution_count": 18,
   "id": "438182f6",
   "metadata": {
    "scrolled": true
   },
   "outputs": [],
   "source": [
    "with open('./speech.mp3', 'wb') as audio_file:\n",
    "    res = tts.synthesize(text, accept='audio/mp3', voice='en-GB_JamesV3Voice').get_result()\n",
    "    audio_file.write(res.content)"
   ]
  },
  {
   "cell_type": "code",
   "execution_count": null,
   "id": "d2c345c7",
   "metadata": {},
   "outputs": [],
   "source": []
  }
 ],
 "metadata": {
  "kernelspec": {
   "display_name": "Python 3",
   "language": "python",
   "name": "python3"
  },
  "language_info": {
   "codemirror_mode": {
    "name": "ipython",
    "version": 3
   },
   "file_extension": ".py",
   "mimetype": "text/x-python",
   "name": "python",
   "nbconvert_exporter": "python",
   "pygments_lexer": "ipython3",
   "version": "3.8.11"
  }
 },
 "nbformat": 4,
 "nbformat_minor": 5
}
